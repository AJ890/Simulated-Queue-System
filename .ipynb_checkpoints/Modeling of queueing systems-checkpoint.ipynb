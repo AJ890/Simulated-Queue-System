{
 "cells": [
  {
   "cell_type": "code",
   "execution_count": 28,
   "metadata": {},
   "outputs": [],
   "source": [
    "import numpy as np \n",
    "\n",
    "\n",
    "def advance_time(self):\n",
    "    t_event=min(self.t_arrival, self.t_depart)\n",
    "        \n",
    "    self.total_wait += self.num_in_system*(t_event-self.clock)\n",
    "        \n",
    "    self.clock = t_event\n",
    "        \n",
    "    if self.t_arrival <= self.t_depart:\n",
    "        self.handle_arrival_event()\n",
    "    else:\n",
    "        self.handle_depart_event()\n",
    "    \n",
    "    "
   ]
  }
 ],
 "metadata": {
  "kernelspec": {
   "display_name": "Python 3",
   "language": "python",
   "name": "python3"
  },
  "language_info": {
   "codemirror_mode": {
    "name": "ipython",
    "version": 3
   },
   "file_extension": ".py",
   "mimetype": "text/x-python",
   "name": "python",
   "nbconvert_exporter": "python",
   "pygments_lexer": "ipython3",
   "version": "3.6.8"
  }
 },
 "nbformat": 4,
 "nbformat_minor": 2
}
